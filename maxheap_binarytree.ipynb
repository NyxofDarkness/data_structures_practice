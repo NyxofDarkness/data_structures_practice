{
 "metadata": {
  "language_info": {
   "codemirror_mode": {
    "name": "ipython",
    "version": 3
   },
   "file_extension": ".py",
   "mimetype": "text/x-python",
   "name": "python",
   "nbconvert_exporter": "python",
   "pygments_lexer": "ipython3",
   "version": 3
  },
  "orig_nbformat": 2
 },
 "nbformat": 4,
 "nbformat_minor": 2,
 "cells": [
  {
   "cell_type": "code",
   "execution_count": null,
   "metadata": {},
   "outputs": [],
   "source": [
    "# complete binary tree\n",
    "# everynode in the tree is less than or = to the parent node\n",
    "# every parent node is greater\n",
    "# highest number alwasy rises to the top of the heap\n",
    "#big O(log n)\n",
    "# get max in O(1)\n",
    "# remove max\n"
   ]
  },
  {
   "cell_type": "code",
   "execution_count": null,
   "metadata": {},
   "outputs": [],
   "source": [
    "# push, peek, pop on max node\n",
    "# push=insert\n",
    "# peek=Look\n",
    "# pop=remove\n",
    "class MaxHeap:\n",
    "    pass"
   ]
  }
 ]
}