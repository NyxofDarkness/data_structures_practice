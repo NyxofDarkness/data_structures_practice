{
 "metadata": {
  "language_info": {
   "codemirror_mode": {
    "name": "ipython",
    "version": 3
   },
   "file_extension": ".py",
   "mimetype": "text/x-python",
   "name": "python",
   "nbconvert_exporter": "python",
   "pygments_lexer": "ipython3",
   "version": 3
  },
  "orig_nbformat": 2
 },
 "nbformat": 4,
 "nbformat_minor": 2,
 "cells": [
  {
   "cell_type": "code",
   "execution_count": null,
   "metadata": {},
   "outputs": [],
   "source": [
    "class Hashtable:\n",
    "    def __init__(self, size=128):\n",
    "        self._size = size\n",
    "        #None can be replaced with Linked List at a higher initial setup cost\n",
    "        self._buckets = size * [None]\n",
    "\n",
    "    def _hash(self, key):\n",
    "        sum = 0\n",
    "        for char in key:\n",
    "            sum += ord(char)\n",
    "            \n",
    "             "
   ]
  }
 ]
}