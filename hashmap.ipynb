{
 "metadata": {
  "language_info": {
   "codemirror_mode": {
    "name": "ipython",
    "version": 3
   },
   "file_extension": ".py",
   "mimetype": "text/x-python",
   "name": "python",
   "nbconvert_exporter": "python",
   "pygments_lexer": "ipython3",
   "version": "3.8.5"
  },
  "orig_nbformat": 2,
  "kernelspec": {
   "name": "python385jvsc74a57bd0916dbcbb3f70747c44a77c7bcd40155683ae19c65e1c03b4aa3499c5328201f1",
   "display_name": "Python 3.8.5 64-bit"
  },
  "metadata": {
   "interpreter": {
    "hash": "916dbcbb3f70747c44a77c7bcd40155683ae19c65e1c03b4aa3499c5328201f1"
   }
  }
 },
 "nbformat": 4,
 "nbformat_minor": 2,
 "cells": [
  {
   "cell_type": "code",
   "execution_count": 5,
   "metadata": {},
   "outputs": [
    {
     "output_type": "stream",
     "name": "stdout",
     "text": [
      "{'pork': 25.3, 'beef': 33.8, 'chicken': 22.7}\n{'pork': 25.3, 'beef': 33.8, 'chicken': 22.0}\n{'pork': 25.3, 'beef': 33.8, 'chicken': 22.7}\n"
     ]
    }
   ],
   "source": [
    "# dictionaries\n",
    "# these are unordered\n",
    "# 3 ways to make dictionaries\n",
    "\n",
    "x = {'pork':25.3, 'beef':33.8, 'chicken':22.7}\n",
    "print(x)\n",
    "\n",
    "x = dict([('pork',25.3), ('beef',33.8), ('chicken',22.)])\n",
    "print(x)\n",
    "\n",
    "x = dict(pork=25.3, beef=33.8, chicken=22.7)\n",
    "print(x)"
   ]
  },
  {
   "cell_type": "code",
   "execution_count": null,
   "metadata": {},
   "outputs": [],
   "source": []
  }
 ]
}