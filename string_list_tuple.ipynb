{
 "metadata": {
  "language_info": {
   "codemirror_mode": {
    "name": "ipython",
    "version": 3
   },
   "file_extension": ".py",
   "mimetype": "text/x-python",
   "name": "python",
   "nbconvert_exporter": "python",
   "pygments_lexer": "ipython3",
   "version": "3.8.5"
  },
  "orig_nbformat": 2,
  "kernelspec": {
   "name": "python385jvsc74a57bd0916dbcbb3f70747c44a77c7bcd40155683ae19c65e1c03b4aa3499c5328201f1",
   "display_name": "Python 3.8.5 64-bit"
  },
  "metadata": {
   "interpreter": {
    "hash": "916dbcbb3f70747c44a77c7bcd40155683ae19c65e1c03b4aa3499c5328201f1"
   }
  }
 },
 "nbformat": 4,
 "nbformat_minor": 2,
 "cells": [
  {
   "cell_type": "code",
   "execution_count": null,
   "metadata": {},
   "outputs": [],
   "source": [
    "# Sequences: Strings, Lists, Tuples\n",
    "\n",
    "## indexing- allows you to access any item in the sequence using it's index. Indexes start at 0."
   ]
  },
  {
   "cell_type": "code",
   "execution_count": 10,
   "metadata": {},
   "outputs": [
    {
     "output_type": "stream",
     "name": "stdout",
     "text": [
      "f\nr\no\ng\npig\ncow\nhorse\nKenvin\nNick\nJenny\nCraig\n('Kenvin', 'Jason', 'Jenny', 'Craig')\n('Kenvin', 'Jason', 'Jenny', 'Craig', 'Nick')\n('Kenvin', 'Jason', 'Jenny', 'Craig')\n"
     ]
    }
   ],
   "source": [
    "#string\n",
    "# print each letter\n",
    "x = 'frog'\n",
    "print(x[0])\n",
    "print(x[1])\n",
    "print(x[2])\n",
    "print(x[3])\n",
    "\n",
    "#list- holds list of strings\n",
    "# print each string\n",
    "x = ['pig', 'cow', 'horse']\n",
    "print(x[0])\n",
    "print(x[1])\n",
    "print(x[2])\n",
    "\n",
    "#tuple\n",
    "# print each name\n",
    "x = ('Kenvin', 'Nick', 'Jenny', 'Craig')\n",
    "print(x[0])\n",
    "print(x[1])\n",
    "print(x[2])\n",
    "print(x[3])\n",
    "\n",
    "# adjust tuple replace Nick with Jason\n",
    "y = list(x)\n",
    "y[1] = \"Jason\"\n",
    "x = tuple(y)\n",
    "print(x)\n",
    "\n",
    "# adjust tuple to add Nick to end\n",
    "y = list(x)\n",
    "y.append(\"Nick\")\n",
    "x = tuple(y)\n",
    "print(x)\n",
    "\n",
    "# take jason off\n",
    "y = list(x)\n",
    "y.pop()\n",
    "x = tuple(y)\n",
    "print(x)"
   ]
  },
  {
   "cell_type": "code",
   "execution_count": 12,
   "metadata": {},
   "outputs": [
    {
     "output_type": "stream",
     "name": "stdout",
     "text": [
      "omp\nopt\nputer\ncompu\nr\nt\nter\ncomput\n"
     ]
    }
   ],
   "source": [
    "# slicing, 3 possible parameters [start:end+1:step]\n",
    "x = 'computer'\n",
    "#print indexes 1 to 3\n",
    "print(x[1:4])\n",
    "# print indexes using a step, print x of 1 to six using a two step. So iut takes every other item\n",
    "print(x[1:6:2])\n",
    "# open colon is end of string. where ever the colon is, you can use the colon open to get the rest.\n",
    "print(x[3:])\n",
    "# uses the colon to get everything before the index\n",
    "print(x[:5])\n",
    "# negative indexes start at the right side of the string\n",
    "print(x[-1])\n",
    "print(x[-3])\n",
    "# lets add the colons and negatives together!\n",
    "print(x[-3:])\n",
    "print(x[:-2])"
   ]
  },
  {
   "cell_type": "code",
   "execution_count": 16,
   "metadata": {},
   "outputs": [
    {
     "output_type": "stream",
     "name": "stdout",
     "text": [
      "horseshoe\n['pig', 'cow', 'horse']\n('Keving', 'Nick', 'Jenny', 'Craig')\n('Keving', 'Nick', 'Jenny', 'Craig', 'Rena')\n"
     ]
    }
   ],
   "source": [
    "# Adding and concatinating\n",
    "\n",
    "#string\n",
    "x = 'horse' + 'shoe'\n",
    "print(x)\n",
    "\n",
    "#list\n",
    "y = ['pig', 'cow'] + ['horse']\n",
    "print(y)\n",
    "\n",
    "# tuple, the comma tells python this is a tuple! VERY IMPORTANT, otherwise it treats it like a string and will throw an error\n",
    "z = ('Keving', 'Nick', 'Jenny') + ('Craig',)\n",
    "print (z)\n",
    "\n",
    "#add Rena to tuple above, using concatination\n",
    "r = tuple(z) + ('Rena',)\n",
    "print(r)"
   ]
  },
  {
   "cell_type": "code",
   "execution_count": 18,
   "metadata": {},
   "outputs": [
    {
     "output_type": "stream",
     "name": "stdout",
     "text": [
      "bugbugbug\n[8, 5, 8, 5, 8, 5]\n(2, 4, 2, 4, 2, 4)\n"
     ]
    }
   ],
   "source": [
    "# multiplying, we are multiplying the lists, not multiplyign as an operator\n",
    "\n",
    "#string\n",
    "x = 'bug' * 3\n",
    "print(x)\n",
    "\n",
    "#list\n",
    "y = [8, 5] * 3\n",
    "print(y)\n",
    "\n",
    "# tuple\n",
    "z = (2, 4) * 3\n",
    "print(z)"
   ]
  },
  {
   "cell_type": "code",
   "execution_count": 20,
   "metadata": {},
   "outputs": [
    {
     "output_type": "stream",
     "name": "stdout",
     "text": [
      "True\nFalse\nFalse\nTrue\nTrue\nTrue\nFalse\n"
     ]
    }
   ],
   "source": [
    "# checking membership- testing whether an item is or is not in a sequence, BOOLEAN\n",
    "\n",
    "#string\n",
    "x = 'bug'\n",
    "print('u' in x)\n",
    "print('a' in x)\n",
    "\n",
    "# list\n",
    "y = ['pig', 'cow', 'horse']\n",
    "print('cow' not in y)\n",
    "print('pony' not in y)\n",
    "print('pig' in y)\n",
    "\n",
    "# tuple\n",
    "z = ('Kevin', 'Nick', 'Jenny', 'Craig')\n",
    "print('Nick' in z)\n",
    "print('rena' in z)"
   ]
  },
  {
   "cell_type": "code",
   "execution_count": 23,
   "metadata": {},
   "outputs": [
    {
     "output_type": "stream",
     "name": "stdout",
     "text": [
      "7\n8\n3\n0 7\n1 8\n2 9\n----------\n3\n3\n4\n"
     ]
    }
   ],
   "source": [
    "# iterate through the items in a sequence\n",
    "\n",
    "#item\n",
    "x = [7, 8, 3]\n",
    "for item in x:\n",
    "    print(item)\n",
    "\n",
    "# index and item, use enumerate to return index and an item, index item names are arbitary, name them what you want\n",
    "y = [7, 8, 9]\n",
    "for index, item in enumerate(y):\n",
    "    print(index, item)\n",
    "\n",
    "print('----------')\n",
    "# number of items in a sequence\n",
    "\n",
    "#string\n",
    "x = 'bug'\n",
    "print(len(x))\n",
    "\n",
    "# list\n",
    "y = ['pig', 'cow', 'horse']\n",
    "print(len(y))\n",
    "\n",
    "#tuple\n",
    "z = ('Kevin', 'Nick', 'Jenny', 'Craig')\n",
    "print(len(z))"
   ]
  },
  {
   "cell_type": "code",
   "execution_count": 32,
   "metadata": {},
   "outputs": [
    {
     "output_type": "stream",
     "name": "stdout",
     "text": [
      "b\n0\ncow\n-1\nCraige\n"
     ]
    }
   ],
   "source": [
    "# minimum: find the minimum item in a sequence lexicographically(elements of a totally ordered set). Alpha or numeric types, but cannot mix types, GOES ALPHABETICALLY\n",
    "\n",
    "#string\n",
    "x = 'bug'\n",
    "print(min(x))\n",
    "\n",
    "q = '840284'\n",
    "print(min(q))\n",
    "\n",
    "# list\n",
    "y = ['pig', 'cow', 'horse']\n",
    "print(min(y))\n",
    "\n",
    "# doesn't work properly with negative numbers, 0 in the list throws an error\n",
    "w = ['34', '-1', '-22']\n",
    "print(min(w))\n",
    "\n",
    "#tuple\n",
    "z = ('Kevin', 'Nick', 'Jenny', 'Craige')\n",
    "print(min(z))\n"
   ]
  },
  {
   "cell_type": "code",
   "execution_count": 36,
   "metadata": {},
   "outputs": [
    {
     "output_type": "stream",
     "name": "stdout",
     "text": [
      "u\n8\npig\n-233\nNick\n"
     ]
    }
   ],
   "source": [
    "# maximum: find the minimum item in a sequence lexicographically(elements of a totally ordered set). Alpha or numeric types, but cannot mix types, GOES ALPHABETICALLY\n",
    "\n",
    "#string\n",
    "x = 'bug'\n",
    "print(max(x))\n",
    "\n",
    "q = '840284'\n",
    "print(max(q))\n",
    "\n",
    "# list\n",
    "y = ['pig', 'cow', 'horse']\n",
    "print(max(y))\n",
    "\n",
    "# doesn't work properly with negative numbers, 0 in the list throws an error(why is this?)\n",
    "w = ['-233', '-1', '-22']\n",
    "print(max(w))\n",
    "\n",
    "#tuple\n",
    "z = ('Kevin', 'Nick', 'Jenny', 'Craige')\n",
    "print(max(z))"
   ]
  },
  {
   "cell_type": "code",
   "execution_count": 38,
   "metadata": {},
   "outputs": [
    {
     "output_type": "stream",
     "name": "stdout",
     "text": [
      "7\n2\n80\n"
     ]
    }
   ],
   "source": [
    "# sum: find the sum of items in a sequence, the entire sequence must be numeric\n",
    "\n",
    "# string = error\n",
    "# x = [5, 7, 'bug']\n",
    "# print(sum(x)) #generates an error\n",
    "\n",
    "#list\n",
    "y = [5, 1, 1]\n",
    "print(sum(y))\n",
    "print(sum(y[-2:])) #combine slicing to get a sum of part of the list, this gets the last two numbers\n",
    "\n",
    "# tuple\n",
    "z = (50, 4, 7, 19)\n",
    "print(sum(z))"
   ]
  },
  {
   "cell_type": "code",
   "execution_count": 44,
   "metadata": {},
   "outputs": [
    {
     "output_type": "stream",
     "name": "stdout",
     "text": [
      "['b', 'g', 'u']\n['cow', 'horse', 'pig']\n['1', '34', '9']\n[1, 9, 34]\n['Craige', 'Jenny', 'Kevin', 'Nick']\n"
     ]
    }
   ],
   "source": [
    "# sorting: returns a new list of items in a sorted order, does not change the origional list\n",
    "\n",
    "#string\n",
    "x = 'bug'\n",
    "print(sorted(x))\n",
    "\n",
    "#list\n",
    "y = ['pig', 'cow', 'horse']\n",
    "print(sorted(y))\n",
    "\n",
    "# number sort doesn't throw an error, but they go by the first position, so here you see 34 is in the middle even though it is higher, because it's a string\n",
    "n = ['34', '1', '9']\n",
    "print(sorted(n))\n",
    "\n",
    "# non-string types work!\n",
    "n = [34, 1, 9]\n",
    "print(sorted(n))\n",
    "\n",
    "# # no mixing types, this throws an error\n",
    "# s = [34, 1, 'bug']\n",
    "# print(sorted(s))\n",
    "\n",
    "# tuple\n",
    "z = ('Kevin', 'Nick', 'Jenny', 'Craige')\n",
    "print(sorted(z))"
   ]
  },
  {
   "cell_type": "code",
   "execution_count": 47,
   "metadata": {},
   "outputs": [
    {
     "output_type": "stream",
     "name": "stdout",
     "text": [
      "['Kevin', 'Jenny', 'Nick', 'Craige']\n['Kevin', 'Craige', 'Nick', 'Jenny']\n"
     ]
    }
   ],
   "source": [
    "# you can also sort by second letter, by adding a key parameter and a lambda function to return the second character. \n",
    "# (the word key here is a defined parameter name, k is an arbitrary variable name)\n",
    "\n",
    "z = ('Kevin', 'Nick', 'Jenny', 'Craige')\n",
    "print(sorted(z, key=lambda k: k[1])) #sorts by second letter (index 1)\n",
    "print(sorted(z, key=lambda k: k[3])) #sorts by fourth letter(index 3)"
   ]
  },
  {
   "cell_type": "code",
   "execution_count": 48,
   "metadata": {},
   "outputs": [
    {
     "output_type": "stream",
     "name": "stdout",
     "text": [
      "2\n2\n1\n"
     ]
    }
   ],
   "source": [
    "# count(item) - returns an int- the count of an item\n",
    "\n",
    "# string\n",
    "x = 'hippo'\n",
    "print(x.count('p'))\n",
    "\n",
    "# list\n",
    "y = ['pig', 'cow', 'horse', 'cow']\n",
    "print(y.count('cow'))\n",
    "\n",
    "# tuple\n",
    "z = ('Kevin', 'Nick', 'Jenny', 'Craige')\n",
    "print(z.count('Nick'))"
   ]
  },
  {
   "cell_type": "code",
   "execution_count": 49,
   "metadata": {},
   "outputs": [
    {
     "output_type": "stream",
     "name": "stdout",
     "text": [
      "2\n1\n1\n"
     ]
    }
   ],
   "source": [
    "# index(item) - returns an int- the index of an item\n",
    "\n",
    "# string - prints first occurance\n",
    "x = 'hippo'\n",
    "print(x.index('p'))\n",
    "\n",
    "# list - prints first occurance\n",
    "y = ['pig', 'cow', 'horse', 'cow']\n",
    "print(y.index('cow'))\n",
    "\n",
    "# tuple\n",
    "z = ('Kevin', 'Nick', 'Jenny', 'Craige')\n",
    "print(z.index('Nick'))"
   ]
  },
  {
   "cell_type": "code",
   "execution_count": 50,
   "metadata": {},
   "outputs": [
    {
     "output_type": "stream",
     "name": "stdout",
     "text": [
      "pig cow horse\n"
     ]
    }
   ],
   "source": [
    "# unpacking - unpack the n items of a sequence into n variables\n",
    "# number of variables has to match the length of the string\n",
    "\n",
    "x = ['pig', 'cow', 'horse']\n",
    "a, b, c = x # sets x strings to each variable in index order\n",
    "print(a, b, c)"
   ]
  },
  {
   "cell_type": "code",
   "execution_count": null,
   "metadata": {},
   "outputs": [],
   "source": []
  }
 ]
}