{
 "metadata": {
  "language_info": {
   "codemirror_mode": {
    "name": "ipython",
    "version": 3
   },
   "file_extension": ".py",
   "mimetype": "text/x-python",
   "name": "python",
   "nbconvert_exporter": "python",
   "pygments_lexer": "ipython3",
   "version": "3.8.5"
  },
  "orig_nbformat": 2,
  "kernelspec": {
   "name": "python385jvsc74a57bd0916dbcbb3f70747c44a77c7bcd40155683ae19c65e1c03b4aa3499c5328201f1",
   "display_name": "Python 3.8.5 64-bit"
  },
  "metadata": {
   "interpreter": {
    "hash": "916dbcbb3f70747c44a77c7bcd40155683ae19c65e1c03b4aa3499c5328201f1"
   }
  }
 },
 "nbformat": 4,
 "nbformat_minor": 2,
 "cells": [
  {
   "cell_type": "code",
   "execution_count": 1,
   "metadata": {},
   "outputs": [],
   "source": [
    "# Sequences: Strings, Lists, Tuples\n",
    "\n",
    "## indexing- allows you to access any item in the sequence using it's index. Indexes start at 0."
   ]
  },
  {
   "cell_type": "code",
   "execution_count": 2,
   "metadata": {},
   "outputs": [
    {
     "output_type": "stream",
     "name": "stdout",
     "text": [
      "f\nr\no\ng\npig\ncow\nhorse\nKenvin\nNick\nJenny\nCraig\n('Kenvin', 'Jason', 'Jenny', 'Craig')\n('Kenvin', 'Jason', 'Jenny', 'Craig', 'Nick')\n('Kenvin', 'Jason', 'Jenny', 'Craig')\n"
     ]
    }
   ],
   "source": [
    "#string\n",
    "# print each letter\n",
    "x = 'frog'\n",
    "print(x[0])\n",
    "print(x[1])\n",
    "print(x[2])\n",
    "print(x[3])\n",
    "\n",
    "#list- holds list of strings\n",
    "# print each string\n",
    "x = ['pig', 'cow', 'horse']\n",
    "print(x[0])\n",
    "print(x[1])\n",
    "print(x[2])\n",
    "\n",
    "#tuple\n",
    "# print each name\n",
    "x = ('Kenvin', 'Nick', 'Jenny', 'Craig')\n",
    "print(x[0])\n",
    "print(x[1])\n",
    "print(x[2])\n",
    "print(x[3])\n",
    "\n",
    "# adjust tuple replace Nick with Jason\n",
    "y = list(x)\n",
    "y[1] = \"Jason\"\n",
    "x = tuple(y)\n",
    "print(x)\n",
    "\n",
    "# adjust tuple to add Nick to end\n",
    "y = list(x)\n",
    "y.append(\"Nick\")\n",
    "x = tuple(y)\n",
    "print(x)\n",
    "\n",
    "# take jason off\n",
    "y = list(x)\n",
    "y.pop()\n",
    "x = tuple(y)\n",
    "print(x)"
   ]
  },
  {
   "cell_type": "code",
   "execution_count": 3,
   "metadata": {},
   "outputs": [
    {
     "output_type": "stream",
     "name": "stdout",
     "text": [
      "omp\nopt\nputer\ncompu\nr\nt\nter\ncomput\n"
     ]
    }
   ],
   "source": [
    "# slicing, 3 possible parameters [start:end+1:step]\n",
    "x = 'computer'\n",
    "#print indexes 1 to 3\n",
    "print(x[1:4])\n",
    "# print indexes using a step, print x of 1 to six using a two step. So iut takes every other item\n",
    "print(x[1:6:2])\n",
    "# open colon is end of string. where ever the colon is, you can use the colon open to get the rest.\n",
    "print(x[3:])\n",
    "# uses the colon to get everything before the index\n",
    "print(x[:5])\n",
    "# negative indexes start at the right side of the string\n",
    "print(x[-1])\n",
    "print(x[-3])\n",
    "# lets add the colons and negatives together!\n",
    "print(x[-3:])\n",
    "print(x[:-2])"
   ]
  },
  {
   "cell_type": "code",
   "execution_count": 4,
   "metadata": {},
   "outputs": [
    {
     "output_type": "stream",
     "name": "stdout",
     "text": [
      "horseshoe\n['pig', 'cow', 'horse']\n('Keving', 'Nick', 'Jenny', 'Craig')\n('Keving', 'Nick', 'Jenny', 'Craig', 'Rena')\n"
     ]
    }
   ],
   "source": [
    "# Adding and concatinating\n",
    "\n",
    "#string\n",
    "x = 'horse' + 'shoe'\n",
    "print(x)\n",
    "\n",
    "#list\n",
    "y = ['pig', 'cow'] + ['horse']\n",
    "print(y)\n",
    "\n",
    "# tuple, the comma tells python this is a tuple! VERY IMPORTANT, otherwise it treats it like a string and will throw an error\n",
    "z = ('Keving', 'Nick', 'Jenny') + ('Craig',)\n",
    "print (z)\n",
    "\n",
    "#add Rena to tuple above, using concatination\n",
    "r = tuple(z) + ('Rena',)\n",
    "print(r)"
   ]
  },
  {
   "cell_type": "code",
   "execution_count": 5,
   "metadata": {},
   "outputs": [
    {
     "output_type": "stream",
     "name": "stdout",
     "text": [
      "bugbugbug\n[8, 5, 8, 5, 8, 5]\n(2, 4, 2, 4, 2, 4)\n"
     ]
    }
   ],
   "source": [
    "# multiplying, we are multiplying the lists, not multiplyign as an operator\n",
    "\n",
    "#string\n",
    "x = 'bug' * 3\n",
    "print(x)\n",
    "\n",
    "#list\n",
    "y = [8, 5] * 3\n",
    "print(y)\n",
    "\n",
    "# tuple\n",
    "z = (2, 4) * 3\n",
    "print(z)"
   ]
  },
  {
   "cell_type": "code",
   "execution_count": 6,
   "metadata": {},
   "outputs": [
    {
     "output_type": "stream",
     "name": "stdout",
     "text": [
      "True\nFalse\nFalse\nTrue\nTrue\nTrue\nFalse\n"
     ]
    }
   ],
   "source": [
    "# checking membership- testing whether an item is or is not in a sequence, BOOLEAN\n",
    "\n",
    "#string\n",
    "x = 'bug'\n",
    "print('u' in x)\n",
    "print('a' in x)\n",
    "\n",
    "# list\n",
    "y = ['pig', 'cow', 'horse']\n",
    "print('cow' not in y)\n",
    "print('pony' not in y)\n",
    "print('pig' in y)\n",
    "\n",
    "# tuple\n",
    "z = ('Kevin', 'Nick', 'Jenny', 'Craig')\n",
    "print('Nick' in z)\n",
    "print('rena' in z)"
   ]
  },
  {
   "cell_type": "code",
   "execution_count": 7,
   "metadata": {},
   "outputs": [
    {
     "output_type": "stream",
     "name": "stdout",
     "text": [
      "7\n8\n3\n0 7\n1 8\n2 9\n----------\n3\n3\n4\n"
     ]
    }
   ],
   "source": [
    "# iterate through the items in a sequence\n",
    "\n",
    "#item\n",
    "x = [7, 8, 3]\n",
    "for item in x:\n",
    "    print(item)\n",
    "\n",
    "# index and item, use enumerate to return index and an item, index item names are arbitary, name them what you want\n",
    "y = [7, 8, 9]\n",
    "for index, item in enumerate(y):\n",
    "    print(index, item)\n",
    "\n",
    "print('----------')\n",
    "# number of items in a sequence\n",
    "\n",
    "#string\n",
    "x = 'bug'\n",
    "print(len(x))\n",
    "\n",
    "# list\n",
    "y = ['pig', 'cow', 'horse']\n",
    "print(len(y))\n",
    "\n",
    "#tuple\n",
    "z = ('Kevin', 'Nick', 'Jenny', 'Craig')\n",
    "print(len(z))"
   ]
  },
  {
   "cell_type": "code",
   "execution_count": 8,
   "metadata": {},
   "outputs": [
    {
     "output_type": "stream",
     "name": "stdout",
     "text": [
      "b\n0\ncow\n-1\nCraige\n"
     ]
    }
   ],
   "source": [
    "# minimum: find the minimum item in a sequence lexicographically(elements of a totally ordered set). Alpha or numeric types, but cannot mix types, GOES ALPHABETICALLY\n",
    "\n",
    "#string\n",
    "x = 'bug'\n",
    "print(min(x))\n",
    "\n",
    "q = '840284'\n",
    "print(min(q))\n",
    "\n",
    "# list\n",
    "y = ['pig', 'cow', 'horse']\n",
    "print(min(y))\n",
    "\n",
    "# doesn't work properly with negative numbers, 0 in the list throws an error\n",
    "w = ['34', '-1', '-22']\n",
    "print(min(w))\n",
    "\n",
    "#tuple\n",
    "z = ('Kevin', 'Nick', 'Jenny', 'Craige')\n",
    "print(min(z))\n"
   ]
  },
  {
   "cell_type": "code",
   "execution_count": 9,
   "metadata": {},
   "outputs": [
    {
     "output_type": "stream",
     "name": "stdout",
     "text": [
      "u\n8\npig\n-233\nNick\n"
     ]
    }
   ],
   "source": [
    "# maximum: find the minimum item in a sequence lexicographically(elements of a totally ordered set). Alpha or numeric types, but cannot mix types, GOES ALPHABETICALLY\n",
    "\n",
    "#string\n",
    "x = 'bug'\n",
    "print(max(x))\n",
    "\n",
    "q = '840284'\n",
    "print(max(q))\n",
    "\n",
    "# list\n",
    "y = ['pig', 'cow', 'horse']\n",
    "print(max(y))\n",
    "\n",
    "# doesn't work properly with negative numbers, 0 in the list throws an error(why is this?)\n",
    "w = ['-233', '-1', '-22']\n",
    "print(max(w))\n",
    "\n",
    "#tuple\n",
    "z = ('Kevin', 'Nick', 'Jenny', 'Craige')\n",
    "print(max(z))"
   ]
  },
  {
   "cell_type": "code",
   "execution_count": 10,
   "metadata": {},
   "outputs": [
    {
     "output_type": "stream",
     "name": "stdout",
     "text": [
      "7\n2\n80\n"
     ]
    }
   ],
   "source": [
    "# sum: find the sum of items in a sequence, the entire sequence must be numeric\n",
    "\n",
    "# string = error\n",
    "# x = [5, 7, 'bug']\n",
    "# print(sum(x)) #generates an error\n",
    "\n",
    "#list\n",
    "y = [5, 1, 1]\n",
    "print(sum(y))\n",
    "print(sum(y[-2:])) #combine slicing to get a sum of part of the list, this gets the last two numbers\n",
    "\n",
    "# tuple\n",
    "z = (50, 4, 7, 19)\n",
    "print(sum(z))"
   ]
  },
  {
   "cell_type": "code",
   "execution_count": 11,
   "metadata": {},
   "outputs": [
    {
     "output_type": "stream",
     "name": "stdout",
     "text": [
      "['b', 'g', 'u']\n['cow', 'horse', 'pig']\n['1', '34', '9']\n[1, 9, 34]\n['Craige', 'Jenny', 'Kevin', 'Nick']\n"
     ]
    }
   ],
   "source": [
    "# sorting: returns a new list of items in a sorted order, does not change the origional list\n",
    "\n",
    "#string\n",
    "x = 'bug'\n",
    "print(sorted(x))\n",
    "\n",
    "#list\n",
    "y = ['pig', 'cow', 'horse']\n",
    "print(sorted(y))\n",
    "\n",
    "# number sort doesn't throw an error, but they go by the first position, so here you see 34 is in the middle even though it is higher, because it's a string\n",
    "n = ['34', '1', '9']\n",
    "print(sorted(n))\n",
    "\n",
    "# non-string types work!\n",
    "n = [34, 1, 9]\n",
    "print(sorted(n))\n",
    "\n",
    "# # no mixing types, this throws an error\n",
    "# s = [34, 1, 'bug']\n",
    "# print(sorted(s))\n",
    "\n",
    "# tuple\n",
    "z = ('Kevin', 'Nick', 'Jenny', 'Craige')\n",
    "print(sorted(z))"
   ]
  },
  {
   "cell_type": "code",
   "execution_count": 12,
   "metadata": {},
   "outputs": [
    {
     "output_type": "stream",
     "name": "stdout",
     "text": [
      "['Kevin', 'Jenny', 'Nick', 'Craige']\n['Kevin', 'Craige', 'Nick', 'Jenny']\n"
     ]
    }
   ],
   "source": [
    "# you can also sort by second letter, by adding a key parameter and a lambda function to return the second character. \n",
    "# (the word key here is a defined parameter name, k is an arbitrary variable name)\n",
    "\n",
    "z = ('Kevin', 'Nick', 'Jenny', 'Craige')\n",
    "print(sorted(z, key=lambda k: k[1])) #sorts by second letter (index 1)\n",
    "print(sorted(z, key=lambda k: k[3])) #sorts by fourth letter(index 3)"
   ]
  },
  {
   "cell_type": "code",
   "execution_count": 13,
   "metadata": {},
   "outputs": [
    {
     "output_type": "stream",
     "name": "stdout",
     "text": [
      "2\n2\n1\n"
     ]
    }
   ],
   "source": [
    "# count(item) - returns an int- the count of an item\n",
    "\n",
    "# string\n",
    "x = 'hippo'\n",
    "print(x.count('p'))\n",
    "\n",
    "# list\n",
    "y = ['pig', 'cow', 'horse', 'cow']\n",
    "print(y.count('cow'))\n",
    "\n",
    "# tuple\n",
    "z = ('Kevin', 'Nick', 'Jenny', 'Craige')\n",
    "print(z.count('Nick'))"
   ]
  },
  {
   "cell_type": "code",
   "execution_count": 14,
   "metadata": {},
   "outputs": [
    {
     "output_type": "stream",
     "name": "stdout",
     "text": [
      "2\n1\n1\n"
     ]
    }
   ],
   "source": [
    "# index(item) - returns an int- the index of an item\n",
    "\n",
    "# string - prints first occurance\n",
    "x = 'hippo'\n",
    "print(x.index('p'))\n",
    "\n",
    "# list - prints first occurance\n",
    "y = ['pig', 'cow', 'horse', 'cow']\n",
    "print(y.index('cow'))\n",
    "\n",
    "# tuple\n",
    "z = ('Kevin', 'Nick', 'Jenny', 'Craige')\n",
    "print(z.index('Nick'))"
   ]
  },
  {
   "cell_type": "code",
   "execution_count": 15,
   "metadata": {},
   "outputs": [
    {
     "output_type": "stream",
     "name": "stdout",
     "text": [
      "pig cow horse\n"
     ]
    }
   ],
   "source": [
    "# unpacking - unpack the n items of a sequence into n variables\n",
    "# number of variables has to match the length of the string\n",
    "\n",
    "x = ['pig', 'cow', 'horse']\n",
    "a, b, c = x # sets x strings to each variable in index order\n",
    "print(a, b, c)"
   ]
  },
  {
   "cell_type": "code",
   "execution_count": 16,
   "metadata": {},
   "outputs": [
    {
     "output_type": "stream",
     "name": "stdout",
     "text": [
      "[0, 1, 2, 3, 4, 5, 6, 7]\n[25, 36, 49, 64, 81]\n"
     ]
    }
   ],
   "source": [
    "# constructers for creating a new list\n",
    "\n",
    "x = list() #creating empty list\n",
    "y = ['a', 25, 'dog', 8.43] #pass in items we want into square brackets, can be different data types\n",
    "tuple1 = (10, 20) # can pass tuple into list constructor, which creates a new list and assigns it to z\n",
    "z = list(tuple1)\n",
    "\n",
    "# list comprehension\n",
    "a = [m for m in range(8)] #for loop and range function, counts from 0-7, and for each value m, assigns to list\n",
    "print(a)\n",
    "b = [i**2 for i in range(10) if i>4] # counts 0-9, taking only the ones greater than 4, and passes i squared into the list\n",
    "print(b)"
   ]
  },
  {
   "cell_type": "code",
   "execution_count": 17,
   "metadata": {},
   "outputs": [
    {
     "output_type": "stream",
     "name": "stdout",
     "text": [
      "[5, 8, 6]\n"
     ]
    }
   ],
   "source": [
    "# delete- delete something from your list\n",
    "\n",
    "x = [5, 3, 8, 6]\n",
    "del(x[1]) # uses index to delete certain elements\n",
    "print(x)\n",
    "del(x) #list x no longer exists"
   ]
  },
  {
   "cell_type": "code",
   "execution_count": 18,
   "metadata": {},
   "outputs": [
    {
     "output_type": "stream",
     "name": "stdout",
     "text": [
      "[5, 3, 8, 6, 7]\n"
     ]
    }
   ],
   "source": [
    "# append- add item to end of list\n",
    "\n",
    "x = [5, 3, 8, 6]\n",
    "x.append(7)\n",
    "print(x)"
   ]
  },
  {
   "cell_type": "code",
   "execution_count": 19,
   "metadata": {},
   "outputs": [
    {
     "output_type": "stream",
     "name": "stdout",
     "text": [
      "[5, 3, 8, 6, 12, 13]\n"
     ]
    }
   ],
   "source": [
    "# extend- append a sequence to a list, combining two lists into one list\n",
    "\n",
    "x = [5, 3, 8, 6]\n",
    "y = [12, 13]\n",
    "x.extend(y)\n",
    "print(x)"
   ]
  },
  {
   "cell_type": "code",
   "execution_count": 20,
   "metadata": {},
   "outputs": [
    {
     "output_type": "stream",
     "name": "stdout",
     "text": [
      "[5, 7, 3, 8, 6]\n[5, ['s', 'm'], 7, 3, 8, 6]\n"
     ]
    }
   ],
   "source": [
    "# insert- insert an item at a given index\n",
    "\n",
    "x = [5, 3, 8, 6]\n",
    "x.insert(1, 7) # first number is the index where we want to insert, second is what we are inserting\n",
    "print(x)\n",
    "x.insert(1, ['s', 'm']) # works with strings as well\n",
    "print(x)"
   ]
  },
  {
   "cell_type": "code",
   "execution_count": 21,
   "metadata": {},
   "outputs": [
    {
     "output_type": "stream",
     "name": "stdout",
     "text": [
      "[5, 3, 8]\n8\n"
     ]
    }
   ],
   "source": [
    "# pop- pops the last item off a list\n",
    "\n",
    "x = [5, 3, 8, 6]\n",
    "x.pop()\n",
    "print(x)\n",
    "print(x.pop()) # prints the item being popped off"
   ]
  },
  {
   "cell_type": "code",
   "execution_count": 25,
   "metadata": {},
   "outputs": [
    {
     "output_type": "stream",
     "name": "stdout",
     "text": [
      "[5, 8, 6, 3]\n[5, 3, 6, 3]\n"
     ]
    }
   ],
   "source": [
    "# remove- removes first instance of an item\n",
    "\n",
    "x = [5, 3, 8, 6, 3]\n",
    "x.remove(3)\n",
    "print(x)\n",
    "\n",
    "x = [5, 3, 3, 6, 3]\n",
    "x.remove(3)\n",
    "print(x)"
   ]
  },
  {
   "cell_type": "code",
   "execution_count": 26,
   "metadata": {},
   "outputs": [
    {
     "output_type": "stream",
     "name": "stdout",
     "text": [
      "[3, 6, 3, 3, 5]\n"
     ]
    }
   ],
   "source": [
    "# reverse\n",
    "\n",
    "x = [5, 3, 3, 6, 3]\n",
    "x.reverse()\n",
    "print(x)"
   ]
  },
  {
   "cell_type": "code",
   "execution_count": 27,
   "metadata": {},
   "outputs": [
    {
     "output_type": "stream",
     "name": "stdout",
     "text": [
      "[3, 3, 5, 6, 8]\n[3, 3, 5, 6, 8]\n[5, 3, 8, 6, 3]\n"
     ]
    }
   ],
   "source": [
    "# sort - sort the list in place--- sorted(x) returns a new sorted list without changing the origional list x. x.sort() puts the items of x in sorted order(sorts in place)\n",
    "\n",
    "x = [5, 3, 8, 6, 3]\n",
    "x.sort()\n",
    "print(x)\n",
    "\n",
    "y = [5, 3, 8, 6, 3]\n",
    "print(sorted(y))\n",
    "print(y)"
   ]
  },
  {
   "cell_type": "code",
   "execution_count": 29,
   "metadata": {},
   "outputs": [
    {
     "output_type": "stream",
     "name": "stdout",
     "text": [
      "[8, 6, 5, 3, 3]\n[8, 6, 5, 3, 3]\n[5, 3, 8, 6, 3]\n"
     ]
    }
   ],
   "source": [
    "# reverse sort- sort items decending, use reverse=True parameter to the sort function\n",
    "\n",
    "x = [5, 3, 8, 6, 3]\n",
    "x.sort(reverse=True)\n",
    "print(x)\n",
    "\n",
    "y = [5, 3, 8, 6, 3]\n",
    "print(sorted(y, reverse=True))\n",
    "print(y)"
   ]
  },
  {
   "cell_type": "code",
   "execution_count": 31,
   "metadata": {},
   "outputs": [
    {
     "output_type": "stream",
     "name": "stdout",
     "text": [
      "(2,) <class 'tuple'>\n(2, 4, 6) <class 'tuple'>\n"
     ]
    }
   ],
   "source": [
    "# Tuples\n",
    "# constructoers- creating new tuples\n",
    "\n",
    "x = ()\n",
    "x = (1, 2, 3)\n",
    "x = 1, 2, 3 # parenthesis are optional in tuples\n",
    "x = 2, #the comma tells python it is a tuple\n",
    "print(x, type(x))\n",
    "\n",
    "list1 = [2, 4, 6]\n",
    "x = tuple(list1)\n",
    "print(x, type(x))"
   ]
  },
  {
   "cell_type": "code",
   "execution_count": 33,
   "metadata": {},
   "outputs": [
    {
     "output_type": "stream",
     "name": "stdout",
     "text": [
      "(1, 2, 3)\n([1], 3)\n([1], 3, 4)\n"
     ]
    }
   ],
   "source": [
    "# tuples are immutable, but member objects (such as lists inside the tuple) may be mutable\n",
    "\n",
    "x = (1, 2, 3)\n",
    "# del(x[1]) # fails\n",
    "# x[1] =8 # fails\n",
    "print(x)\n",
    "\n",
    "y = ([1, 2], 3) # a tuple where the first item is a list\n",
    "del(y[0][1]) # delete the two\n",
    "print(y) # the list within the tuple is mutable\n",
    "\n",
    "y += (4,) # concatinateing two tuples works\n",
    "print(y)"
   ]
  },
  {
   "cell_type": "code",
   "execution_count": 34,
   "metadata": {},
   "outputs": [
    {
     "output_type": "stream",
     "name": "stdout",
     "text": [
      "{3, 5}\nset()\n{2, 3, 4}\n"
     ]
    }
   ],
   "source": [
    "# Sets store non dublicat items\n",
    "# faster access vs. lists\n",
    "# math set ops (union, intersect)\n",
    "# sets are unordered\n",
    "\n",
    "x = {3, 5, 3, 5} # python filters out dups and prints the set\n",
    "print(x)\n",
    "\n",
    "y = set()\n",
    "print(y)\n",
    "\n",
    "list1 = [2, 3, 4]\n",
    "z = set(list1)\n",
    "print(z)\n"
   ]
  },
  {
   "cell_type": "code",
   "execution_count": 35,
   "metadata": {},
   "outputs": [
    {
     "output_type": "stream",
     "name": "stdout",
     "text": [
      "{8, 3, 5}\n{8, 3, 5, 7}\n{8, 5, 7}\n3\nTrue\n8 {5, 7}\nset()\n"
     ]
    }
   ],
   "source": [
    "# things you can do to sets:\n",
    "\n",
    "x = {3, 8, 5}\n",
    "print(x)\n",
    "x.add(7)\n",
    "print(x)\n",
    "\n",
    "x.remove(3)\n",
    "print(x)\n",
    "\n",
    "# get length of set\n",
    "print(len(x))\n",
    "\n",
    "# check membership in x- returns boolean\n",
    "print(5 in x)\n",
    "\n",
    "# pop random item from set\n",
    "print(x.pop(), x)\n",
    "\n",
    "# delete all items from set\n",
    "x.clear()\n",
    "print(x)"
   ]
  },
  {
   "cell_type": "code",
   "execution_count": 37,
   "metadata": {},
   "outputs": [
    {
     "output_type": "stream",
     "name": "stdout",
     "text": [
      "{3}\n{1, 2, 3, 4, 5}\n{1, 2, 4, 5}\n{1, 2}\nFalse\nFalse\n"
     ]
    }
   ],
   "source": [
    "# mathematical set operators\n",
    "# intersection (AND): set1 & set2\n",
    "# union (OR): set1 |set2\n",
    "# symmetric defference (XOR): set1 ^ set2 difference (in set1 but not set2): set1 - set2\n",
    "# subset (set2 contains set1): set1 <= set2\n",
    "# superset (set1 contains set2): set1 >= set2\n",
    "\n",
    "s1 = {1, 2, 3}\n",
    "s2 = {3, 4, 5}\n",
    "print(s1 & s2) # what number is the same in both sets\n",
    "print(s1 | s2) # union between sets\n",
    "print(s1 ^ s2)\n",
    "print(s1 - s2)\n",
    "print(s1 <= s2)\n",
    "print(s1 >= s2)"
   ]
  }
 ]
}